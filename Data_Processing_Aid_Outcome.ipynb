{
  "nbformat": 4,
  "nbformat_minor": 0,
  "metadata": {
    "colab": {
      "provenance": []
    },
    "kernelspec": {
      "name": "python3",
      "display_name": "Python 3"
    },
    "language_info": {
      "name": "python"
    }
  },
  "cells": [
    {
      "cell_type": "code",
      "source": [
        "!pip install fuzzywuzzy"
      ],
      "metadata": {
        "id": "i3k86D1FN8Pm",
        "colab": {
          "base_uri": "https://localhost:8080/"
        },
        "outputId": "d777bf81-5ea4-4ce9-c339-9da6c9c6b1c1"
      },
      "execution_count": 2,
      "outputs": [
        {
          "output_type": "stream",
          "name": "stdout",
          "text": [
            "Collecting fuzzywuzzy\n",
            "  Downloading fuzzywuzzy-0.18.0-py2.py3-none-any.whl.metadata (4.9 kB)\n",
            "Downloading fuzzywuzzy-0.18.0-py2.py3-none-any.whl (18 kB)\n",
            "Installing collected packages: fuzzywuzzy\n",
            "Successfully installed fuzzywuzzy-0.18.0\n"
          ]
        }
      ]
    },
    {
      "cell_type": "code",
      "source": [
        "import pandas as pd\n",
        "from fuzzywuzzy import process\n",
        "\n",
        "# Step 1: Load the datasets\n",
        "aid_data = pd.read_csv(\"aiddata_grant_loan.csv\", sep=';')\n",
        "outcome_data = pd.read_excel(\"OutcomeData (1).xlsx\")\n",
        "\n",
        "# Step 2: Match French recipient country names to English names\n",
        "aid_countries = aid_data['recepient'].unique()\n",
        "outcome_countries = outcome_data['Country_Name'].unique()\n",
        "\n",
        "country_map = {}\n",
        "for fr_country in aid_countries:\n",
        "    match, score = process.extractOne(fr_country, outcome_countries)\n",
        "    country_map[fr_country] = match if score > 80 else None\n",
        "\n",
        "# Manual corrections for unmatched countries\n",
        "manual_country_fixes = {\n",
        "    'Erythree': 'Eritrea',\n",
        "    'Soudan du Sud': 'South Sudan',\n",
        "    'Maurice': 'Mauritius',\n",
        "    'Gambie': 'Gambia',\n",
        "    'Afrique centrale non specifie': 'Central Africa (unspecified)',\n",
        "    'Republique centrafricaine': 'Central African Republic',\n",
        "    'Afrique du Sud': 'South Africa',\n",
        "    'Djibouti': 'Djibouti',\n",
        "    'Afrique occidentale non specifie': 'Western Africa (unspecified)',\n",
        "    'Albanie': 'Albania',\n",
        "    'Afrique australe non specifie': 'Southern Africa (unspecified)',\n",
        "    'Afrique orientale non specifie': 'Eastern Africa (unspecified)',\n",
        "    'Sainte-Helene': 'Saint Helena',\n",
        "    'Mayotte': 'Mayotte'\n",
        "}\n",
        "country_map.update(manual_country_fixes)\n",
        "\n",
        "# Apply mapping\n",
        "aid_data['recepient_en'] = aid_data['recepient'].map(country_map)\n",
        "\n",
        "# Step 3: Transform outcome data to wide format\n",
        "outcome_melted = outcome_data.melt(\n",
        "    id_vars=['Country_Name', 'Series_Name'],\n",
        "    var_name='year',\n",
        "    value_name='value'\n",
        ")\n",
        "\n",
        "# Clean year column (extract just the 4-digit year)\n",
        "outcome_melted['year'] = pd.to_numeric(outcome_melted['year'].str.extract(r'(\\d{4})')[0], errors='coerce')\n",
        "\n",
        "# Pivot so each series is a separate column\n",
        "outcome_pivot = outcome_melted.pivot_table(\n",
        "    index=['Country_Name', 'year'],\n",
        "    columns='Series_Name',\n",
        "    values='value',\n",
        "    aggfunc='first'\n",
        ").reset_index()\n",
        "\n",
        "# Step 4: Merge Aid and Outcome data\n",
        "merged = pd.merge(\n",
        "    outcome_pivot,\n",
        "    aid_data,\n",
        "    how='left',\n",
        "    left_on=['Country_Name', 'year'],\n",
        "    right_on=['recepient_en', 'year']\n",
        ")\n",
        "\n",
        "# Step 5: Add binary column for aid presence\n",
        "merged['aid_received'] = merged['aidamount'].notna().astype(int)\n",
        "\n",
        "# Step 6: Final selection of relevant columns\n",
        "final_df = merged[[\n",
        "    'Country_Name', 'year', 'donar', 'measure', 'aidamount', 'aid_received'\n",
        "] + [col for col in merged.columns if col not in [\n",
        "    'Country_Name', 'year', 'recepient', 'recepient_en',\n",
        "    'donar', 'measure', 'aidamount', 'aid_received',\n",
        "    'unitmeas', 'Type de prix', 'baseperiod', 'unitmult',\n",
        "    \"Multiplicateur d'unite\", 'flowtype', 'Type de flux'\n",
        "]]]\n",
        "\n",
        "# Replace French measure names with standard English labels\n",
        "measure_translation = {\n",
        "    \"Aide alimentaire\": \"Development Food Aid\",\n",
        "    \"Aide alimentaire developpementale\": \"Development Food Aid\",\n",
        "    \"Aide humanitaire\": \"Humanitarian Aid\",\n",
        "    \"Aide humanitaire\": \"Humanitarian Aid\",\n",
        "    \"APD en % du RNB du receveur\": \"ODA as % of GNI of Recipient\",\n",
        "    \"APD par habitant\": \"ODA per Capita\",\n",
        "    \"Cooperation technique,\": \"Technical Cooperation\",\n",
        "    \"Coopération technique\": \"Technical Cooperation\",\n",
        "    \"Dons d'APD, versements\": \"ODA Grants, Disbursements\",\n",
        "    \"Prets d'APD,\": \"ODA Loans\"\n",
        "}\n",
        "\n",
        "final_df['measure'] = final_df['measure'].replace(measure_translation)\n",
        "\n",
        "# Optional: Save to CSV\n",
        "final_df.to_csv(\"merged_aid_loan_grant_outcome_data.csv\", index=False)"
      ],
      "metadata": {
        "colab": {
          "base_uri": "https://localhost:8080/"
        },
        "id": "GNm5inY5ETQB",
        "outputId": "d4f5ed24-247a-4ba9-b30c-ed46198ca2e4"
      },
      "execution_count": 8,
      "outputs": [
        {
          "output_type": "stream",
          "name": "stderr",
          "text": [
            "/tmp/ipython-input-8-3301236761.py:93: SettingWithCopyWarning: \n",
            "A value is trying to be set on a copy of a slice from a DataFrame.\n",
            "Try using .loc[row_indexer,col_indexer] = value instead\n",
            "\n",
            "See the caveats in the documentation: https://pandas.pydata.org/pandas-docs/stable/user_guide/indexing.html#returning-a-view-versus-a-copy\n",
            "  final_df['measure'] = final_df['measure'].replace(measure_translation)\n"
          ]
        }
      ]
    },
    {
      "cell_type": "code",
      "source": [
        "final_df.measure.unique()"
      ],
      "metadata": {
        "colab": {
          "base_uri": "https://localhost:8080/"
        },
        "id": "3iuF3BrgVnLS",
        "outputId": "6069d32b-a30d-45fb-9eac-117a9c400126"
      },
      "execution_count": 11,
      "outputs": [
        {
          "output_type": "execute_result",
          "data": {
            "text/plain": [
              "array(['Development Food Aid', 'Humanitarian Aid',\n",
              "       'Cooperation technique, versements', 'ODA Grants, Disbursements',\n",
              "       \"Prets d'APD, versements net\", nan], dtype=object)"
            ]
          },
          "metadata": {},
          "execution_count": 11
        }
      ]
    }
  ]
}
